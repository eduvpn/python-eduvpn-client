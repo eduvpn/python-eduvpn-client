{
 "cells": [
  {
   "cell_type": "code",
   "execution_count": null,
   "metadata": {},
   "outputs": [],
   "source": [
    "from typing import Dict, Union\n",
    "import sys\n",
    "import os \n",
    "from pathlib import Path\n",
    "import requests\n",
    "import socket\n",
    "import pandas as pd\n",
    "import webbrowser\n",
    "from requests_oauthlib import OAuth2Session\n",
    "import gi\n",
    "import tempfile\n",
    "try:\n",
    "    gi.require_version('NM', '1.0')\n",
    "    from gi.repository import GLib, NM\n",
    "except ValueError:\n",
    "    print(\"NM not available\")\n",
    "    NM = None"
   ]
  },
  {
   "cell_type": "code",
   "execution_count": null,
   "metadata": {},
   "outputs": [],
   "source": [
    "sys.path.append(str(Path().absolute().parent))"
   ]
  },
  {
   "cell_type": "code",
   "execution_count": null,
   "metadata": {},
   "outputs": [],
   "source": [
    "from eduvpn.oauth2 import one_request, get_open_port\n",
    "from eduvpn.crypto import gen_code_challenge, gen_code_verifier, common_name_from_cert"
   ]
  },
  {
   "cell_type": "markdown",
   "metadata": {},
   "source": [
    "# Settings"
   ]
  },
  {
   "cell_type": "code",
   "execution_count": null,
   "metadata": {},
   "outputs": [],
   "source": [
    "# client settings\n",
    "DISCO_URI = 'https://disco.eduvpn.org/v2/'\n",
    "ORGANISATION_URI = DISCO_URI + \"organization_list.json\"\n",
    "SERVER_URI = DISCO_URI + \"server_list.json\"\n",
    "client_id = \"org.eduvpn.app.linux\"\n",
    "scope = [\"config\"]\n",
    "code_challenge_method = \"S256\""
   ]
  },
  {
   "cell_type": "code",
   "execution_count": null,
   "metadata": {},
   "outputs": [],
   "source": [
    "# our configuration\n",
    "organisation = 'SURFnet bv'\n",
    "server = 'Demo'\n",
    "institute = 'Demo'\n",
    "LANGUAGE = 'nl'\n",
    "COUNTRY = \"nl-NL\""
   ]
  },
  {
   "cell_type": "markdown",
   "metadata": {},
   "source": [
    "# Utils"
   ]
  },
  {
   "cell_type": "code",
   "execution_count": null,
   "metadata": {},
   "outputs": [],
   "source": [
    "def extract_translation(d: Union[str, Dict[str, str]]):\n",
    "    if type(d) != dict:\n",
    "        return d\n",
    "    for m in [COUNTRY, LANGUAGE, 'en-US', 'en']:\n",
    "        try:\n",
    "            return d[m]\n",
    "        except KeyError:\n",
    "            continue\n",
    "    return list(d.values())[0]  # otherwise just return first in list"
   ]
  },
  {
   "cell_type": "markdown",
   "metadata": {},
   "source": [
    "# server list"
   ]
  },
  {
   "cell_type": "code",
   "execution_count": null,
   "metadata": {},
   "outputs": [],
   "source": [
    "servers_response = requests.get(SERVER_URI)\n",
    "server_list = pd.DataFrame(servers_response.json()['server_list'])\n",
    "server_list['display_name'] = server_list['display_name'].apply(extract_translation)\n",
    "server_list"
   ]
  },
  {
   "cell_type": "markdown",
   "metadata": {},
   "source": [
    "# institute list"
   ]
  },
  {
   "cell_type": "code",
   "execution_count": null,
   "metadata": {},
   "outputs": [],
   "source": [
    "institute_list = server_list[server_list['server_type'] == 'institute_access'].drop(['server_type'], axis=1)\n",
    "institute_list"
   ]
  },
  {
   "cell_type": "markdown",
   "metadata": {},
   "source": [
    "# organisation list"
   ]
  },
  {
   "cell_type": "code",
   "execution_count": null,
   "metadata": {
    "scrolled": true
   },
   "outputs": [],
   "source": [
    "organisation_response = requests.get(ORGANISATION_URI)\n",
    "organization_list = pd.DataFrame(organisation_response.json()['organization_list'])\n",
    "organization_list['display_name'] = organization_list['display_name'].apply(extract_translation)\n",
    "organization_list['keyword_list'] = organization_list['keyword_list'].apply(extract_translation)\n",
    "organization_list"
   ]
  },
  {
   "cell_type": "markdown",
   "metadata": {},
   "source": [
    "# Secure internet"
   ]
  },
  {
   "cell_type": "code",
   "execution_count": null,
   "metadata": {},
   "outputs": [],
   "source": [
    "secure_internet_list = server_list[server_list['server_type'] == 'secure_internet'].drop(['server_type'], axis=1)\n",
    "secure_internet_list"
   ]
  },
  {
   "cell_type": "markdown",
   "metadata": {},
   "source": [
    "# make selection"
   ]
  },
  {
   "cell_type": "code",
   "execution_count": null,
   "metadata": {
    "scrolled": true
   },
   "outputs": [],
   "source": [
    "institute_info = institute_list[institute_list['display_name'] == institute]\n",
    "institute_info"
   ]
  },
  {
   "cell_type": "markdown",
   "metadata": {},
   "source": [
    "## or in case you select an organisation"
   ]
  },
  {
   "cell_type": "code",
   "execution_count": null,
   "metadata": {},
   "outputs": [],
   "source": [
    "organisation_info = organization_list[organization_list['display_name'] == organisation]\n",
    "organisation_info"
   ]
  },
  {
   "cell_type": "code",
   "execution_count": null,
   "metadata": {},
   "outputs": [],
   "source": [
    "info_base_url = institute_info['base_url'].iloc[0]"
   ]
  },
  {
   "cell_type": "code",
   "execution_count": null,
   "metadata": {},
   "outputs": [],
   "source": [
    "info_url = info_base_url + 'info.json'\n",
    "info = requests.get(info_url).json()['api']['http://eduvpn.org/api#2']"
   ]
  },
  {
   "cell_type": "code",
   "execution_count": null,
   "metadata": {},
   "outputs": [],
   "source": [
    "api_base_uri = info['api_base_uri']\n",
    "token_endpoint = info['token_endpoint']\n",
    "authorization_endpoint = info['authorization_endpoint']"
   ]
  },
  {
   "cell_type": "code",
   "execution_count": null,
   "metadata": {},
   "outputs": [],
   "source": [
    "port = get_open_port()\n",
    "redirect_uri = f'http://127.0.0.1:{port}/callback'"
   ]
  },
  {
   "cell_type": "code",
   "execution_count": null,
   "metadata": {},
   "outputs": [],
   "source": [
    "oauth = OAuth2Session(client_id, redirect_uri=redirect_uri, auto_refresh_url=token_endpoint, scope=scope)"
   ]
  },
  {
   "cell_type": "code",
   "execution_count": null,
   "metadata": {},
   "outputs": [],
   "source": [
    "code_verifier = gen_code_verifier()\n",
    "code_challenge = gen_code_challenge(code_verifier)\n",
    "authorization_url, state = oauth.authorization_url(url=authorization_endpoint,\n",
    "                                                   code_challenge_method=code_challenge_method,\n",
    "                                                   code_challenge=code_challenge)"
   ]
  },
  {
   "cell_type": "code",
   "execution_count": null,
   "metadata": {},
   "outputs": [],
   "source": [
    "webbrowser.open(authorization_url)\n",
    "response = one_request(port, lets_connect=False)"
   ]
  },
  {
   "cell_type": "code",
   "execution_count": null,
   "metadata": {},
   "outputs": [],
   "source": [
    "code = response['code'][0]\n",
    "assert(state == response['state'][0])"
   ]
  },
  {
   "cell_type": "code",
   "execution_count": null,
   "metadata": {},
   "outputs": [],
   "source": [
    "token = oauth.fetch_token(token_url=token_endpoint,\n",
    "                          code=code,\n",
    "                          code_verifier=code_verifier,\n",
    "                          client_id=oauth.client_id,\n",
    "                          include_client_id=True,\n",
    "                          )"
   ]
  },
  {
   "cell_type": "markdown",
   "metadata": {},
   "source": [
    "# profile list"
   ]
  },
  {
   "cell_type": "code",
   "execution_count": null,
   "metadata": {},
   "outputs": [],
   "source": [
    "profile_list_response = oauth.get(api_base_uri + '/profile_list')"
   ]
  },
  {
   "cell_type": "code",
   "execution_count": null,
   "metadata": {},
   "outputs": [],
   "source": [
    "profile_list_response.json()['profile_list']['data']"
   ]
  },
  {
   "cell_type": "code",
   "execution_count": null,
   "metadata": {},
   "outputs": [],
   "source": [
    "response = oauth.post(api_base_uri + '/create_keypair')\n",
    "keypair = response.json()['create_keypair']['data']\n",
    "private_key = keypair['private_key']\n",
    "certificate = keypair['certificate']\n",
    "common_name = common_name_from_cert(certificate.encode('ascii'))"
   ]
  },
  {
   "cell_type": "markdown",
   "metadata": {},
   "source": [
    "# profile config"
   ]
  },
  {
   "cell_type": "code",
   "execution_count": null,
   "metadata": {},
   "outputs": [],
   "source": [
    "profile_id = 'internet'\n",
    "response = oauth.get(api_base_uri + f'/profile_config?profile_id={profile_id}')\n",
    "config = response.text"
   ]
  },
  {
   "cell_type": "markdown",
   "metadata": {},
   "source": [
    "# check_certificate"
   ]
  },
  {
   "cell_type": "code",
   "execution_count": null,
   "metadata": {},
   "outputs": [],
   "source": [
    "response = oauth.get(api_base_uri + f'/check_certificate?common_name={common_name}')\n",
    "assert(response.json()['check_certificate']['data']['is_valid'])"
   ]
  },
  {
   "cell_type": "markdown",
   "metadata": {},
   "source": [
    "# system_messages"
   ]
  },
  {
   "cell_type": "code",
   "execution_count": null,
   "metadata": {},
   "outputs": [],
   "source": [
    "response = oauth.get(api_base_uri + '/system_messages')"
   ]
  },
  {
   "cell_type": "code",
   "execution_count": null,
   "metadata": {},
   "outputs": [],
   "source": [
    "response.json()['system_messages']['data']"
   ]
  },
  {
   "cell_type": "markdown",
   "metadata": {},
   "source": [
    "# write networkmanager config"
   ]
  },
  {
   "cell_type": "code",
   "execution_count": null,
   "metadata": {},
   "outputs": [],
   "source": [
    "tmp = tempfile.NamedTemporaryFile(mode='w+t')\n",
    "tmp.writelines(config)\n",
    "tmp.seek(0)\n",
    "filename = tmp.name"
   ]
  },
  {
   "cell_type": "code",
   "execution_count": null,
   "metadata": {},
   "outputs": [],
   "source": [
    "connection = None\n",
    "for vpn_info in NM.VpnPluginInfo.list_load():\n",
    "    print(\"TRY:  plugin %s\" % (vpn_info.get_filename()))\n",
    "    try:\n",
    "        vpn_plugin = vpn_info.load_editor_plugin()\n",
    "    except Exception as e:\n",
    "        print(\"SKIP: cannot load plugin: %s\" % (e))\n",
    "        continue\n",
    "    try:\n",
    "        connection = vpn_plugin.import_(filename)\n",
    "    except Exception as e:\n",
    "        print(\"SKIP: failure to import %s\" % (e))\n",
    "        continue\n",
    "    break\n",
    "\n",
    "if connection is None:\n",
    "    print(\"None of the VPN plugins was able to import \\\"%s\\\"\" % (filename))\n",
    "    sys.exit(1)"
   ]
  },
  {
   "cell_type": "code",
   "execution_count": null,
   "metadata": {},
   "outputs": [],
   "source": [
    "connection.normalize()\n",
    "\n",
    "print(\"connection imported from \\\"%s\\\" using plugin \\\"%s\\\" (\\\"%s\\\", %s)\" % (filename, vpn_info.get_filename(), connection.get_id(), connection.get_uuid()))\n",
    "\n",
    "client = NM.Client.new(None)\n",
    "\n",
    "main_loop = GLib.MainLoop()\n",
    "\n",
    "def added_cb(client, result, data):\n",
    "    try:\n",
    "        client.add_connection_finish(result)\n",
    "        print(\"The connection profile has been successfully added to NetworkManager.\")\n",
    "    except Exception as e:\n",
    "        print(\"ERROR: failed to add connection: %s\\n\" % e)\n",
    "    main_loop.quit()\n",
    "\n",
    "client.add_connection_async(connection, True, None, added_cb, None)\n",
    "\n",
    "main_loop.run()"
   ]
  }
 ],
 "metadata": {
  "kernelspec": {
   "display_name": "Python 3",
   "language": "python",
   "name": "python3"
  },
  "language_info": {
   "codemirror_mode": {
    "name": "ipython",
    "version": 3
   },
   "file_extension": ".py",
   "mimetype": "text/x-python",
   "name": "python",
   "nbconvert_exporter": "python",
   "pygments_lexer": "ipython3",
   "version": "3.9.0"
  }
 },
 "nbformat": 4,
 "nbformat_minor": 4
}
